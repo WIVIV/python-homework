{
 "cells": [
  {
   "cell_type": "code",
   "execution_count": null,
   "metadata": {},
   "outputs": [],
   "source": [
    "#In this activity, you are tasked with creating a Python script for analyzing the financial records of your company. You will be provided with a financial dataset in this file: budget_data.csv. This dataset is composed of two columns, Date and Profit/Losses. (Thankfully, your company has rather lax standards for accounting, so the records are simple.)\n",
    "#Your task is to create a Python script that analyzes the records to calculate each of the following:\n",
    "#The total number of months included in the dataset.\n",
    "#The net total amount of Profit/Losses over the entire period.\n",
    "#The average of the changes in Profit/Losses over the entire period.\n",
    "#The greatest increase in profits (date and amount) over the entire period.\n",
    "#The greatest decrease in losses (date and amount) over the entire period.\n",
    "#Your resulting analysis should look similar to the following:\n",
    "\n",
    "#Financial Analysis\n",
    "#----------------------------\n",
    "#Total Months: 86\n",
    "#Total: $38382578\n",
    "#Average  Change: $-2315.12\n",
    "#Greatest Increase in Profits: Feb-2012 ($1926159)\n",
    "#Greatest Decrease in Profits: Sep-2013 ($-2196167)\n"
   ]
  },
  {
   "cell_type": "code",
   "execution_count": 1,
   "metadata": {},
   "outputs": [
    {
     "name": "stdout",
     "output_type": "stream",
     "text": [
      "Jan-2010 867884\n",
      "Feb-2010 984655\n",
      "Mar-2010 322013\n",
      "Apr-2010 -69417\n",
      "May-2010 310503\n",
      "Jun-2010 522857\n",
      "Jul-2010 1033096\n",
      "Aug-2010 604885\n",
      "Sep-2010 -216386\n",
      "Oct-2010 477532\n",
      "Nov-2010 893810\n",
      "Dec-2010 -80353\n",
      "Jan-2011 779806\n",
      "Feb-2011 -335203\n",
      "Mar-2011 697845\n",
      "Apr-2011 793163\n",
      "May-2011 485070\n",
      "Jun-2011 584122\n",
      "Jul-2011 62729\n",
      "Aug-2011 668179\n",
      "Sep-2011 899906\n",
      "Oct-2011 834719\n",
      "Nov-2011 132003\n",
      "Dec-2011 309978\n",
      "Jan-2012 -755566\n",
      "Feb-2012 1170593\n",
      "Mar-2012 252788\n",
      "Apr-2012 1151518\n",
      "May-2012 817256\n",
      "Jun-2012 570757\n",
      "Jul-2012 506702\n",
      "Aug-2012 -1022534\n",
      "Sep-2012 475062\n",
      "Oct-2012 779976\n",
      "Nov-2012 144175\n",
      "Dec-2012 542494\n",
      "Jan-2013 359333\n",
      "Feb-2013 321469\n",
      "Mar-2013 67780\n",
      "Apr-2013 471435\n",
      "May-2013 565603\n",
      "Jun-2013 872480\n",
      "Jul-2013 789480\n",
      "Aug-2013 999942\n",
      "Sep-2013 -1196225\n",
      "Oct-2013 268997\n",
      "Nov-2013 -687986\n",
      "Dec-2013 1150461\n",
      "Jan-2014 682458\n",
      "Feb-2014 617856\n",
      "Mar-2014 824098\n",
      "Apr-2014 581943\n",
      "May-2014 132864\n",
      "Jun-2014 448062\n",
      "Jul-2014 689161\n",
      "Aug-2014 800701\n",
      "Sep-2014 1166643\n",
      "Oct-2014 947333\n",
      "Nov-2014 578668\n",
      "Dec-2014 988505\n",
      "Jan-2015 1139715\n",
      "Feb-2015 1029471\n",
      "Mar-2015 687533\n",
      "Apr-2015 -524626\n",
      "May-2015 158620\n",
      "Jun-2015 87795\n",
      "Jul-2015 423389\n",
      "Aug-2015 840723\n",
      "Sep-2015 568529\n",
      "Oct-2015 332067\n",
      "Nov-2015 989499\n",
      "Dec-2015 778237\n",
      "Jan-2016 650000\n",
      "Feb-2016 -1100387\n",
      "Mar-2016 -174946\n",
      "Apr-2016 757143\n",
      "May-2016 445709\n",
      "Jun-2016 712961\n",
      "Jul-2016 -1163797\n",
      "Aug-2016 569899\n",
      "Sep-2016 768450\n",
      "Oct-2016 102685\n",
      "Nov-2016 795914\n",
      "Dec-2016 60988\n",
      "Jan-2017 138230\n",
      "Feb-2017 671099\n"
     ]
    }
   ],
   "source": [
    "import csv\n",
    "with open('budget_data.csv') as csvfile:\n",
    "    reader = csv.DictReader(csvfile,delimiter=\",\")\n",
    "    for d in reader:\n",
    "        print(f\"{d['Date']} {d['Profit/Losses']}\")"
   ]
  },
  {
   "cell_type": "code",
   "execution_count": 2,
   "metadata": {},
   "outputs": [],
   "source": [
    "with open('budget_data.csv', mode='r') as infile:\n",
    "    reader = csv.reader(infile)\n",
    "    with open('budget_data_new.csv', mode='w') as outfile:\n",
    "        writer = csv.writer(outfile)\n",
    "        bd = {rows[0]:rows[1] for rows in reader}"
   ]
  },
  {
   "cell_type": "code",
   "execution_count": 3,
   "metadata": {},
   "outputs": [
    {
     "name": "stdout",
     "output_type": "stream",
     "text": [
      "{'Date': 'Profit/Losses', 'Jan-2010': '867884', 'Feb-2010': '984655', 'Mar-2010': '322013', 'Apr-2010': '-69417', 'May-2010': '310503', 'Jun-2010': '522857', 'Jul-2010': '1033096', 'Aug-2010': '604885', 'Sep-2010': '-216386', 'Oct-2010': '477532', 'Nov-2010': '893810', 'Dec-2010': '-80353', 'Jan-2011': '779806', 'Feb-2011': '-335203', 'Mar-2011': '697845', 'Apr-2011': '793163', 'May-2011': '485070', 'Jun-2011': '584122', 'Jul-2011': '62729', 'Aug-2011': '668179', 'Sep-2011': '899906', 'Oct-2011': '834719', 'Nov-2011': '132003', 'Dec-2011': '309978', 'Jan-2012': '-755566', 'Feb-2012': '1170593', 'Mar-2012': '252788', 'Apr-2012': '1151518', 'May-2012': '817256', 'Jun-2012': '570757', 'Jul-2012': '506702', 'Aug-2012': '-1022534', 'Sep-2012': '475062', 'Oct-2012': '779976', 'Nov-2012': '144175', 'Dec-2012': '542494', 'Jan-2013': '359333', 'Feb-2013': '321469', 'Mar-2013': '67780', 'Apr-2013': '471435', 'May-2013': '565603', 'Jun-2013': '872480', 'Jul-2013': '789480', 'Aug-2013': '999942', 'Sep-2013': '-1196225', 'Oct-2013': '268997', 'Nov-2013': '-687986', 'Dec-2013': '1150461', 'Jan-2014': '682458', 'Feb-2014': '617856', 'Mar-2014': '824098', 'Apr-2014': '581943', 'May-2014': '132864', 'Jun-2014': '448062', 'Jul-2014': '689161', 'Aug-2014': '800701', 'Sep-2014': '1166643', 'Oct-2014': '947333', 'Nov-2014': '578668', 'Dec-2014': '988505', 'Jan-2015': '1139715', 'Feb-2015': '1029471', 'Mar-2015': '687533', 'Apr-2015': '-524626', 'May-2015': '158620', 'Jun-2015': '87795', 'Jul-2015': '423389', 'Aug-2015': '840723', 'Sep-2015': '568529', 'Oct-2015': '332067', 'Nov-2015': '989499', 'Dec-2015': '778237', 'Jan-2016': '650000', 'Feb-2016': '-1100387', 'Mar-2016': '-174946', 'Apr-2016': '757143', 'May-2016': '445709', 'Jun-2016': '712961', 'Jul-2016': '-1163797', 'Aug-2016': '569899', 'Sep-2016': '768450', 'Oct-2016': '102685', 'Nov-2016': '795914', 'Dec-2016': '60988', 'Jan-2017': '138230', 'Feb-2017': '671099'}\n"
     ]
    }
   ],
   "source": [
    "print (bd)"
   ]
  },
  {
   "cell_type": "code",
   "execution_count": 4,
   "metadata": {},
   "outputs": [],
   "source": [
    "del bd['Date']"
   ]
  },
  {
   "cell_type": "code",
   "execution_count": 11,
   "metadata": {},
   "outputs": [
    {
     "name": "stdout",
     "output_type": "stream",
     "text": [
      "{'Jan-2010': '867884', 'Feb-2010': '984655', 'Mar-2010': '322013', 'Apr-2010': '-69417', 'May-2010': '310503', 'Jun-2010': '522857', 'Jul-2010': '1033096', 'Aug-2010': '604885', 'Sep-2010': '-216386', 'Oct-2010': '477532', 'Nov-2010': '893810', 'Dec-2010': '-80353', 'Jan-2011': '779806', 'Feb-2011': '-335203', 'Mar-2011': '697845', 'Apr-2011': '793163', 'May-2011': '485070', 'Jun-2011': '584122', 'Jul-2011': '62729', 'Aug-2011': '668179', 'Sep-2011': '899906', 'Oct-2011': '834719', 'Nov-2011': '132003', 'Dec-2011': '309978', 'Jan-2012': '-755566', 'Feb-2012': '1170593', 'Mar-2012': '252788', 'Apr-2012': '1151518', 'May-2012': '817256', 'Jun-2012': '570757', 'Jul-2012': '506702', 'Aug-2012': '-1022534', 'Sep-2012': '475062', 'Oct-2012': '779976', 'Nov-2012': '144175', 'Dec-2012': '542494', 'Jan-2013': '359333', 'Feb-2013': '321469', 'Mar-2013': '67780', 'Apr-2013': '471435', 'May-2013': '565603', 'Jun-2013': '872480', 'Jul-2013': '789480', 'Aug-2013': '999942', 'Sep-2013': '-1196225', 'Oct-2013': '268997', 'Nov-2013': '-687986', 'Dec-2013': '1150461', 'Jan-2014': '682458', 'Feb-2014': '617856', 'Mar-2014': '824098', 'Apr-2014': '581943', 'May-2014': '132864', 'Jun-2014': '448062', 'Jul-2014': '689161', 'Aug-2014': '800701', 'Sep-2014': '1166643', 'Oct-2014': '947333', 'Nov-2014': '578668', 'Dec-2014': '988505', 'Jan-2015': '1139715', 'Feb-2015': '1029471', 'Mar-2015': '687533', 'Apr-2015': '-524626', 'May-2015': '158620', 'Jun-2015': '87795', 'Jul-2015': '423389', 'Aug-2015': '840723', 'Sep-2015': '568529', 'Oct-2015': '332067', 'Nov-2015': '989499', 'Dec-2015': '778237', 'Jan-2016': '650000', 'Feb-2016': '-1100387', 'Mar-2016': '-174946', 'Apr-2016': '757143', 'May-2016': '445709', 'Jun-2016': '712961', 'Jul-2016': '-1163797', 'Aug-2016': '569899', 'Sep-2016': '768450', 'Oct-2016': '102685', 'Nov-2016': '795914', 'Dec-2016': '60988', 'Jan-2017': '138230', 'Feb-2017': '671099'}\n"
     ]
    }
   ],
   "source": [
    "print (bd)"
   ]
  },
  {
   "cell_type": "code",
   "execution_count": 12,
   "metadata": {},
   "outputs": [],
   "source": [
    "# Initialize metric variables\n",
    "Total_Months = 0\n",
    "Total = 0\n",
    "Average_Change = 0"
   ]
  },
  {
   "cell_type": "code",
   "execution_count": 8,
   "metadata": {},
   "outputs": [],
   "source": [
    "# Initialize minimum key-value pair\n",
    "minimum_key = \"\"\n",
    "minimum_value = 0\n",
    "\n",
    "# Initialize maximum key-value pair\n",
    "maximum_key = \"\"\n",
    "maximum_value = 0"
   ]
  },
  {
   "cell_type": "code",
   "execution_count": 15,
   "metadata": {},
   "outputs": [
    {
     "name": "stdout",
     "output_type": "stream",
     "text": [
      "\n",
      "Date: Jan-2010 | Profit/Loss: 867884\n",
      "Date: Feb-2010 | Profit/Loss: 984655\n",
      "Date: Mar-2010 | Profit/Loss: 322013\n",
      "Date: Apr-2010 | Profit/Loss: -69417\n",
      "Date: May-2010 | Profit/Loss: 310503\n",
      "Date: Jun-2010 | Profit/Loss: 522857\n",
      "Date: Jul-2010 | Profit/Loss: 1033096\n",
      "Date: Aug-2010 | Profit/Loss: 604885\n",
      "Date: Sep-2010 | Profit/Loss: -216386\n",
      "Date: Oct-2010 | Profit/Loss: 477532\n",
      "Date: Nov-2010 | Profit/Loss: 893810\n",
      "Date: Dec-2010 | Profit/Loss: -80353\n",
      "Date: Jan-2011 | Profit/Loss: 779806\n",
      "Date: Feb-2011 | Profit/Loss: -335203\n",
      "Date: Mar-2011 | Profit/Loss: 697845\n",
      "Date: Apr-2011 | Profit/Loss: 793163\n",
      "Date: May-2011 | Profit/Loss: 485070\n",
      "Date: Jun-2011 | Profit/Loss: 584122\n",
      "Date: Jul-2011 | Profit/Loss: 62729\n",
      "Date: Aug-2011 | Profit/Loss: 668179\n",
      "Date: Sep-2011 | Profit/Loss: 899906\n",
      "Date: Oct-2011 | Profit/Loss: 834719\n",
      "Date: Nov-2011 | Profit/Loss: 132003\n",
      "Date: Dec-2011 | Profit/Loss: 309978\n",
      "Date: Jan-2012 | Profit/Loss: -755566\n",
      "Date: Feb-2012 | Profit/Loss: 1170593\n",
      "Date: Mar-2012 | Profit/Loss: 252788\n",
      "Date: Apr-2012 | Profit/Loss: 1151518\n",
      "Date: May-2012 | Profit/Loss: 817256\n",
      "Date: Jun-2012 | Profit/Loss: 570757\n",
      "Date: Jul-2012 | Profit/Loss: 506702\n",
      "Date: Aug-2012 | Profit/Loss: -1022534\n",
      "Date: Sep-2012 | Profit/Loss: 475062\n",
      "Date: Oct-2012 | Profit/Loss: 779976\n",
      "Date: Nov-2012 | Profit/Loss: 144175\n",
      "Date: Dec-2012 | Profit/Loss: 542494\n",
      "Date: Jan-2013 | Profit/Loss: 359333\n",
      "Date: Feb-2013 | Profit/Loss: 321469\n",
      "Date: Mar-2013 | Profit/Loss: 67780\n",
      "Date: Apr-2013 | Profit/Loss: 471435\n",
      "Date: May-2013 | Profit/Loss: 565603\n",
      "Date: Jun-2013 | Profit/Loss: 872480\n",
      "Date: Jul-2013 | Profit/Loss: 789480\n",
      "Date: Aug-2013 | Profit/Loss: 999942\n",
      "Date: Sep-2013 | Profit/Loss: -1196225\n",
      "Date: Oct-2013 | Profit/Loss: 268997\n",
      "Date: Nov-2013 | Profit/Loss: -687986\n",
      "Date: Dec-2013 | Profit/Loss: 1150461\n",
      "Date: Jan-2014 | Profit/Loss: 682458\n",
      "Date: Feb-2014 | Profit/Loss: 617856\n",
      "Date: Mar-2014 | Profit/Loss: 824098\n",
      "Date: Apr-2014 | Profit/Loss: 581943\n",
      "Date: May-2014 | Profit/Loss: 132864\n",
      "Date: Jun-2014 | Profit/Loss: 448062\n",
      "Date: Jul-2014 | Profit/Loss: 689161\n",
      "Date: Aug-2014 | Profit/Loss: 800701\n",
      "Date: Sep-2014 | Profit/Loss: 1166643\n",
      "Date: Oct-2014 | Profit/Loss: 947333\n",
      "Date: Nov-2014 | Profit/Loss: 578668\n",
      "Date: Dec-2014 | Profit/Loss: 988505\n",
      "Date: Jan-2015 | Profit/Loss: 1139715\n",
      "Date: Feb-2015 | Profit/Loss: 1029471\n",
      "Date: Mar-2015 | Profit/Loss: 687533\n",
      "Date: Apr-2015 | Profit/Loss: -524626\n",
      "Date: May-2015 | Profit/Loss: 158620\n",
      "Date: Jun-2015 | Profit/Loss: 87795\n",
      "Date: Jul-2015 | Profit/Loss: 423389\n",
      "Date: Aug-2015 | Profit/Loss: 840723\n",
      "Date: Sep-2015 | Profit/Loss: 568529\n",
      "Date: Oct-2015 | Profit/Loss: 332067\n",
      "Date: Nov-2015 | Profit/Loss: 989499\n",
      "Date: Dec-2015 | Profit/Loss: 778237\n",
      "Date: Jan-2016 | Profit/Loss: 650000\n",
      "Date: Feb-2016 | Profit/Loss: -1100387\n",
      "Date: Mar-2016 | Profit/Loss: -174946\n",
      "Date: Apr-2016 | Profit/Loss: 757143\n",
      "Date: May-2016 | Profit/Loss: 445709\n",
      "Date: Jun-2016 | Profit/Loss: 712961\n",
      "Date: Jul-2016 | Profit/Loss: -1163797\n",
      "Date: Aug-2016 | Profit/Loss: 569899\n",
      "Date: Sep-2016 | Profit/Loss: 768450\n",
      "Date: Oct-2016 | Profit/Loss: 102685\n",
      "Date: Nov-2016 | Profit/Loss: 795914\n",
      "Date: Dec-2016 | Profit/Loss: 60988\n",
      "Date: Jan-2017 | Profit/Loss: 138230\n",
      "Date: Feb-2017 | Profit/Loss: 671099\n"
     ]
    }
   ],
   "source": [
    "print()\n",
    "for date, PL in bd.items():\n",
    "    print(f\"Date: {date} | Profit/Loss: {PL}\")\n",
    "    \n",
    "    # calc number of months\n",
    "    Total_Months += 1\n",
    "    # calc net total\n",
    "    Total += int(PL)\n",
    "    # calc average change\n",
    "    # Logic to determine min value and associated key\n",
    "    #if minimum_value == 0:\n",
    "    #    minimum_value = Profit/Loss\n",
    "     #   minimum_key = Date\n",
    "    #elif market_cap < minimum_value:\n",
    "      #  minimum_value = market_cap\n",
    "       # minimum_key = bank_name"
   ]
  },
  {
   "cell_type": "code",
   "execution_count": 18,
   "metadata": {},
   "outputs": [
    {
     "name": "stdout",
     "output_type": "stream",
     "text": [
      "$38382578\n",
      "86\n"
     ]
    }
   ],
   "source": [
    "print (F\"${Total}\")\n",
    "print (Total_Months)"
   ]
  },
  {
   "cell_type": "code",
   "execution_count": 23,
   "metadata": {},
   "outputs": [
    {
     "name": "stdout",
     "output_type": "stream",
     "text": [
      "Length : 86\n"
     ]
    }
   ],
   "source": [
    "print (\"Length : %d\" % len (bd))"
   ]
  },
  {
   "cell_type": "code",
   "execution_count": 26,
   "metadata": {},
   "outputs": [
    {
     "name": "stdout",
     "output_type": "stream",
     "text": [
      "variable Type: <class 'dict'>\n"
     ]
    }
   ],
   "source": [
    "print (\"variable Type: %s\" %type (bd))"
   ]
  },
  {
   "cell_type": "code",
   "execution_count": 72,
   "metadata": {},
   "outputs": [],
   "source": [
    "a =list(bd.values())\n",
    "for i in range(0, len(a)):\n",
    "    a[i] = int(a[i])\n"
   ]
  },
  {
   "cell_type": "code",
   "execution_count": 73,
   "metadata": {},
   "outputs": [
    {
     "name": "stdout",
     "output_type": "stream",
     "text": [
      "[867884, 984655, 322013, -69417, 310503, 522857, 1033096, 604885, -216386, 477532, 893810, -80353, 779806, -335203, 697845, 793163, 485070, 584122, 62729, 668179, 899906, 834719, 132003, 309978, -755566, 1170593, 252788, 1151518, 817256, 570757, 506702, -1022534, 475062, 779976, 144175, 542494, 359333, 321469, 67780, 471435, 565603, 872480, 789480, 999942, -1196225, 268997, -687986, 1150461, 682458, 617856, 824098, 581943, 132864, 448062, 689161, 800701, 1166643, 947333, 578668, 988505, 1139715, 1029471, 687533, -524626, 158620, 87795, 423389, 840723, 568529, 332067, 989499, 778237, 650000, -1100387, -174946, 757143, 445709, 712961, -1163797, 569899, 768450, 102685, 795914, 60988, 138230, 671099]\n"
     ]
    }
   ],
   "source": [
    "print (a)"
   ]
  },
  {
   "cell_type": "code",
   "execution_count": 70,
   "metadata": {},
   "outputs": [
    {
     "data": {
      "text/plain": [
       "0.0"
      ]
     },
     "execution_count": 70,
     "metadata": {},
     "output_type": "execute_result"
    }
   ],
   "source": [
    "diffs = []\n",
    "for i, e in enumerate(list_a):\n",
    "        for j, f in enumerate(list_a):\n",
    "            if i != j: diffs.append((e-f))\n",
    "sum(diffs)/len(diffs)"
   ]
  },
  {
   "cell_type": "code",
   "execution_count": 93,
   "metadata": {},
   "outputs": [],
   "source": [
    "diff = [x - a[i - 1] for i, x in enumerate(a)][1:]"
   ]
  },
  {
   "cell_type": "code",
   "execution_count": 94,
   "metadata": {},
   "outputs": [
    {
     "name": "stdout",
     "output_type": "stream",
     "text": [
      "[116771, -662642, -391430, 379920, 212354, 510239, -428211, -821271, 693918, 416278, -974163, 860159, -1115009, 1033048, 95318, -308093, 99052, -521393, 605450, 231727, -65187, -702716, 177975, -1065544, 1926159, -917805, 898730, -334262, -246499, -64055, -1529236, 1497596, 304914, -635801, 398319, -183161, -37864, -253689, 403655, 94168, 306877, -83000, 210462, -2196167, 1465222, -956983, 1838447, -468003, -64602, 206242, -242155, -449079, 315198, 241099, 111540, 365942, -219310, -368665, 409837, 151210, -110244, -341938, -1212159, 683246, -70825, 335594, 417334, -272194, -236462, 657432, -211262, -128237, -1750387, 925441, 932089, -311434, 267252, -1876758, 1733696, 198551, -665765, 693229, -734926, 77242, 532869]\n"
     ]
    }
   ],
   "source": [
    "print (diff)"
   ]
  },
  {
   "cell_type": "code",
   "execution_count": 95,
   "metadata": {},
   "outputs": [],
   "source": [
    "sum_diff = sum(diff)"
   ]
  },
  {
   "cell_type": "code",
   "execution_count": 96,
   "metadata": {},
   "outputs": [
    {
     "name": "stdout",
     "output_type": "stream",
     "text": [
      "-196785\n"
     ]
    }
   ],
   "source": [
    "print (sum_diff)"
   ]
  },
  {
   "cell_type": "code",
   "execution_count": 97,
   "metadata": {},
   "outputs": [],
   "source": [
    "avg_diff = sum_diff/len(diff)"
   ]
  },
  {
   "cell_type": "code",
   "execution_count": 108,
   "metadata": {},
   "outputs": [
    {
     "name": "stdout",
     "output_type": "stream",
     "text": [
      "$-2315.12\n"
     ]
    }
   ],
   "source": [
    "print (\"${:.6}\". format(avg_diff))"
   ]
  },
  {
   "cell_type": "code",
   "execution_count": 111,
   "metadata": {},
   "outputs": [],
   "source": [
    "max_diff = max(diff)\n",
    "min_diff = min(diff)"
   ]
  },
  {
   "cell_type": "code",
   "execution_count": 112,
   "metadata": {},
   "outputs": [
    {
     "name": "stdout",
     "output_type": "stream",
     "text": [
      "1926159\n"
     ]
    }
   ],
   "source": [
    "print (max_diff)"
   ]
  },
  {
   "cell_type": "code",
   "execution_count": 113,
   "metadata": {},
   "outputs": [
    {
     "name": "stdout",
     "output_type": "stream",
     "text": [
      "-2196167\n"
     ]
    }
   ],
   "source": [
    "print (min_diff)"
   ]
  },
  {
   "cell_type": "code",
   "execution_count": null,
   "metadata": {},
   "outputs": [],
   "source": []
  }
 ],
 "metadata": {
  "kernelspec": {
   "display_name": "Python 3",
   "language": "python",
   "name": "python3"
  },
  "language_info": {
   "codemirror_mode": {
    "name": "ipython",
    "version": 3
   },
   "file_extension": ".py",
   "mimetype": "text/x-python",
   "name": "python",
   "nbconvert_exporter": "python",
   "pygments_lexer": "ipython3",
   "version": "3.7.3"
  }
 },
 "nbformat": 4,
 "nbformat_minor": 4
}
